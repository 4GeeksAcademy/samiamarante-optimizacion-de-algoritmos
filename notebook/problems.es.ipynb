{
 "cells": [
  {
   "attachments": {},
   "cell_type": "markdown",
   "id": "27b09e13",
   "metadata": {},
   "source": [
    "# Problemas de optimización de algoritmos"
   ]
  },
  {
   "attachments": {},
   "cell_type": "markdown",
   "id": "ed05e9bf",
   "metadata": {},
   "source": [
    "## Ejercicio 1\n",
    "### Optimización de código para procesamiento de texto\n",
    "\n",
    "Se te ha entregado un código de procesamiento de texto que realiza las siguientes operaciones:\n",
    "\n",
    "1. Convierte todo el texto a minúsculas.\n",
    "2. Elimina los signos de puntuación.\n",
    "3. Cuenta la frecuencia de cada palabra.\n",
    "4. Muestra las 5 palabras mas comunes.\n",
    "\n",
    "El código funciona, pero es ineficiente y puede optimizarse. Tu tarea es identificar las áreas que pueden ser mejoradas y reescribir esas partes para hacer el código mas eficiente y legible.\n"
   ]
  },
  {
   "cell_type": "code",
   "execution_count": 50,
   "id": "8467465b",
   "metadata": {},
   "outputs": [
    {
     "name": "stdout",
     "output_type": "stream",
     "text": [
      "'the': 5 times\n",
      "'of': 3 times\n",
      "'in': 2 times\n",
      "'a': 2 times\n",
      "'she': 2 times\n"
     ]
    }
   ],
   "source": [
    "import string\n",
    "\n",
    "def process_text(text):\n",
    "    # Texto a minuscula\n",
    "    text = text.lower()\n",
    "\n",
    "    # Eliminación de puntuaciones\n",
    "    for p in string.punctuation:\n",
    "        text = text.replace(p, \"\")\n",
    "\n",
    "    # Split text into words\n",
    "    words = text.split()\n",
    "\n",
    "    # Conteo de frecuencias\n",
    "    frequencies = {}\n",
    "    for w in words:\n",
    "        if w in frequencies:\n",
    "            frequencies[w] += 1\n",
    "        else:\n",
    "            frequencies[w] = 1\n",
    "\n",
    "    sorted_frequencies = sorted(frequencies.items(), key = lambda x: x[1], reverse = True)\n",
    "\n",
    "    # Obtener las 5 palabras más comunes\n",
    "    top_5 = sorted_frequencies[:5]\n",
    "    \n",
    "    for w, frequency in top_5:\n",
    "        print(f\"'{w}': {frequency} times\")\n",
    "\n",
    "text = \"\"\"\n",
    "    In the heart of the city, Emily discovered a quaint little café, hidden away from the bustling streets. \n",
    "    The aroma of freshly baked pastries wafted through the air, drawing in passersby. As she sipped on her latte, \n",
    "    she noticed an old bookshelf filled with classics, creating a cozy atmosphere that made her lose track of time.\n",
    "\"\"\"\n",
    "process_text(text)"
   ]
  },
  {
   "cell_type": "markdown",
   "id": "29040779",
   "metadata": {},
   "source": [
    "Puntos a optimizar:\n",
    "\n",
    "1. **Eliminar los signos de puntuación**: Usar `replace`  en un ciclo puede ser ineficiente, especialmente con textos largos. Busca una formas eficiente de eliminar los signos de puntuación.\n",
    "2. **Contador de frecuencia**: El código verifica la existencia de cada palabra en el diccionario y luego actualiza su cuenta. Esto puede hacerse mas eficientemente con ciertas estructuras de datos en Python.\n",
    "3. **Ordenar y seleccionar:** Considera si hay una forma mas directa o efectiva de obtener las 5 palabras mas frecuentes sin ordenar todas las palabras.\n",
    "4. **Modularidad**: Divide el código en funciones mas pequeñas para que cada una puede realizar una tarea específica. Esto no solo optimizará el desempeño, sino también hará el código mas legible y mantenible."
   ]
  },
  {
   "cell_type": "code",
   "execution_count": 51,
   "id": "57cd6641",
   "metadata": {},
   "outputs": [],
   "source": [
    "import re\n",
    "# 1. Eliminar los signos de puntuación\n",
    "def limpiar_texto(text):\n",
    "    text = re.sub(r'[^\\w\\s]', '', text).lower()\n",
    "    return(text)\n",
    "texto_limpio = limpiar_texto(text)"
   ]
  },
  {
   "cell_type": "code",
   "execution_count": 52,
   "id": "3632dada",
   "metadata": {},
   "outputs": [],
   "source": [
    "from collections import Counter\n",
    "# 2. Contador de frecuencia\n",
    "def separar_palabras(texto_limpio):\n",
    "    return texto_limpio.split()\n",
    "def contar_frecuencia(palavras):\n",
    "    return Counter(palabras)\n",
    "\n",
    "palabras = separar_palabras(texto_limpio)\n",
    "frecuencias = contar_frecuencia(palabras)"
   ]
  },
  {
   "cell_type": "code",
   "execution_count": 55,
   "id": "9635fc28",
   "metadata": {},
   "outputs": [],
   "source": [
    "# 3. Ordenar y seleccionar\n",
    "def obtener_top_n(frecuencias, n=5):\n",
    "    return frecuencias.most_common(n)"
   ]
  },
  {
   "cell_type": "code",
   "execution_count": 57,
   "id": "45678a94",
   "metadata": {},
   "outputs": [
    {
     "name": "stdout",
     "output_type": "stream",
     "text": [
      "Palabras más comunes: [('the', 5), ('of', 3), ('in', 2), ('a', 2), ('she', 2)]\n"
     ]
    }
   ],
   "source": [
    "# 4 Obtener las 5 palabras mas comunes\n",
    "def analizar_texto(text, n=5):\n",
    "    texto_limpio = limpiar_texto(text)\n",
    "    palabras = separar_palabras(texto_limpio)\n",
    "    frecuencias = contar_frecuencia(palabras)\n",
    "    return obtener_top_n(frecuencias, n)\n",
    "text = \"\"\"\n",
    "    In the heart of the city, Emily discovered a quaint little café, hidden away from the bustling streets. \n",
    "    The aroma of freshly baked pastries wafted through the air, drawing in passersby. As she sipped on her latte, \n",
    "    she noticed an old bookshelf filled with classics, creating a cozy atmosphere that made her lose track of time.\n",
    "\"\"\"\n",
    "palabras_top_5 = analizar_texto(text)\n",
    "print('Palabras más comunes:', palabras_top_5)"
   ]
  },
  {
   "attachments": {},
   "cell_type": "markdown",
   "id": "011996bc",
   "metadata": {},
   "source": [
    "## Ejercicio 2\n",
    "### Optimización de código para procesamiento de listas\n",
    "\n",
    "Se te ha dado el siguiente código que realiza operaciones en una lista de números para:\n",
    "\n",
    "1. Filtrar los números pares.\n",
    "2. Duplicar cada número.\n",
    "3. Sumar todos los números.\n",
    "4. Verificar si el resultado es un número primo.\n",
    "\n",
    "El código entregado logra los objetivos, pero puede ser ineficiente. Tu tarea es identificar y mejorar las partes de ese código para mejorar su eficiencia."
   ]
  },
  {
   "cell_type": "code",
   "execution_count": 3,
   "id": "783d03a0",
   "metadata": {},
   "outputs": [
    {
     "name": "stdout",
     "output_type": "stream",
     "text": [
      "Result: 60, ¿Prime? No\n"
     ]
    }
   ],
   "source": [
    "import math\n",
    "\n",
    "def is_prime(n):\n",
    "    if n <= 1:\n",
    "        return False\n",
    "    for i in range(2, int(math.sqrt(n)) + 1):\n",
    "        if n % i == 0:\n",
    "            return False\n",
    "    return True\n",
    "\n",
    "def process_list(list_):\n",
    "    filtered_list = []\n",
    "    for num in list_:\n",
    "        if num % 2 == 0:\n",
    "            filtered_list.append(num)\n",
    "    \n",
    "    duplicate_list = []\n",
    "    for num in filtered_list:\n",
    "        duplicate_list.append(num * 2)\n",
    "        \n",
    "    sum = 0\n",
    "    for num in duplicate_list:\n",
    "        sum += num\n",
    "\n",
    "    prime = is_prime(sum)\n",
    "    \n",
    "    return sum, prime\n",
    "\n",
    "list_ = [1, 2, 3, 4, 5, 6, 7, 8, 9, 10]\n",
    "result, result_prime = process_list(list_)\n",
    "print(f\"Result: {result}, ¿Prime? {'Yes' if result_prime else 'No'}\")"
   ]
  },
  {
   "cell_type": "markdown",
   "id": "128d564e",
   "metadata": {},
   "source": [
    "Puntos a optimizar:\n",
    "\n",
    "1. **Filtrar las números**: El código recorre la lista original para filtrar los números pares. Considera una forma mas eficiente de filtrar la lista.\n",
    "2. **Duplicación**: La lista es atravesada varias veces. ¿Hay alguna manera de hacer esto mas eficientemente?\n",
    "3. **Suma**: Los números en la lista se suman a traves de un bucle. Python trae incluidas unas funciones que pueden optimizar esto.\n",
    "4. **Función `is_prime`**: Aunque ésta función es relativamente eficiente, investiga si hay maneras de hacerla aun más rápida.\n",
    "5. **Modularidad**: Considera dividir el código en funciones más pequeñas, cada una enfocada en una tarea específica."
   ]
  },
  {
   "cell_type": "code",
   "execution_count": 5,
   "id": "f40e35d6",
   "metadata": {},
   "outputs": [
    {
     "name": "stdout",
     "output_type": "stream",
     "text": [
      "[2, 4, 6, 8, 10]\n"
     ]
    }
   ],
   "source": [
    "# 1. Filtrar los números pares\n",
    "def pares(list_):\n",
    "    return [numero for numero in list_ if numero % 2 == 0]\n",
    "list_ = [1, 2, 3, 4, 5, 6, 7, 8, 9, 10]\n",
    "print(pares(list_))"
   ]
  },
  {
   "cell_type": "code",
   "execution_count": 7,
   "id": "7072e9fc",
   "metadata": {},
   "outputs": [
    {
     "name": "stdout",
     "output_type": "stream",
     "text": [
      "60\n"
     ]
    }
   ],
   "source": [
    "# Solucionar duplicación (filtrar, duplicar y sumar)\n",
    "def suma_pares_duplicados(list_):\n",
    "    suma_total = 0\n",
    "    for num in list_:\n",
    "        if num % 2 == 0:\n",
    "            suma_total += num * 2\n",
    "    return suma_total\n",
    "list_ = [1, 2, 3, 4, 5, 6, 7, 8, 9, 10]\n",
    "resultado = suma_pares_duplicados(list_)\n",
    "print(resultado)"
   ]
  },
  {
   "cell_type": "code",
   "execution_count": 13,
   "id": "24c56c72",
   "metadata": {},
   "outputs": [
    {
     "name": "stdout",
     "output_type": "stream",
     "text": [
      "60\n"
     ]
    }
   ],
   "source": [
    "# Utilizar sum para una suma mas eficiente\n",
    "suma_total = sum(num *2 for num in list_ if num % 2 == 0)\n",
    "list_ = [1, 2, 3, 4, 5, 6, 7, 8, 9, 10]\n",
    "print(suma_total)"
   ]
  },
  {
   "cell_type": "code",
   "execution_count": 15,
   "id": "c88f7917",
   "metadata": {},
   "outputs": [
    {
     "name": "stdout",
     "output_type": "stream",
     "text": [
      "False\n"
     ]
    }
   ],
   "source": [
    "# Optimizar función es_primo\n",
    "def es_primo(n):\n",
    "    if n <= 1:\n",
    "        return False\n",
    "    if n == 2:\n",
    "        return True\n",
    "    if n % 2 == 0:    # elimina los pares\n",
    "        return False\n",
    "    for i in range(3, int(math.sqrt(n)) + 1, 2): # recorre solo los ímpares\n",
    "        if n % i == 0:\n",
    "            return False\n",
    "    return True \n",
    "\n",
    "resultado_primo = es_primo(suma_total)\n",
    "print(resultado_primo)   "
   ]
  },
  {
   "attachments": {},
   "cell_type": "markdown",
   "id": "1af70806",
   "metadata": {},
   "source": [
    "Ambos ejercicios  ayudarán a mejorar tu habilidad de optimizar el desempeño del código y te darán un mejor entendimiento de como las diferentes estructuras de datos y técnicas de programación pueden afectar la eficiencia de tu código."
   ]
  }
 ],
 "metadata": {
  "kernelspec": {
   "display_name": "Python 3",
   "language": "python",
   "name": "python3"
  },
  "language_info": {
   "codemirror_mode": {
    "name": "ipython",
    "version": 3
   },
   "file_extension": ".py",
   "mimetype": "text/x-python",
   "name": "python",
   "nbconvert_exporter": "python",
   "pygments_lexer": "ipython3",
   "version": "3.11.4"
  }
 },
 "nbformat": 4,
 "nbformat_minor": 5
}
